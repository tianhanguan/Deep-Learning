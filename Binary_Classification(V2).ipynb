{
 "cells": [
  {
   "cell_type": "code",
   "execution_count": 40,
   "metadata": {},
   "outputs": [],
   "source": [
    "#Import useful modules\n",
    "import os\n",
    "import pandas as pd\n",
    "import matplotlib.pyplot as plt\n",
    "import numpy as np\n",
    "import seaborn as sns\n",
    "from keras import models\n",
    "from keras import layers"
   ]
  },
  {
   "cell_type": "code",
   "execution_count": 41,
   "metadata": {},
   "outputs": [],
   "source": [
    "#Set directory and import the Letters data\n",
    "os.chdir('D:\\MSc2\\Deep Learning Keras\\Task1')\n",
    "data = pd.read_csv('Mushroom.txt',header=None)\n",
    "\n",
    "#Randomly shuffle the data\n",
    "data = data.iloc[np.random.permutation(data.shape[0]),].reset_index(drop=True)"
   ]
  },
  {
   "cell_type": "code",
   "execution_count": 42,
   "metadata": {},
   "outputs": [],
   "source": [
    "#data.head() #First column is the label (binary)\n",
    "#data.shape #(8124, 23)\n",
    "#data.describe()\n",
    "#data.info() #object\n",
    "#data.columns.values #column names"
   ]
  },
  {
   "cell_type": "code",
   "execution_count": 43,
   "metadata": {},
   "outputs": [],
   "source": [
    "##Section 1: Data Preprocessing\n",
    "#Rename the columns \n",
    "data.columns = [\"Label\"] + [\"Feature\" + str(num1) for num1 in range(1,23)]\n",
    "\n",
    "#Remove feature 11 and Rename the columns \n",
    "data = data.drop(['Feature11'], axis=1) #Constant values\n",
    "data.columns = [\"Label\"] + [\"Feature\" + str(num1) for num1 in range(1,22)]\n",
    "\n",
    "#Create features and labels\n",
    "y = data['Label'].astype(\"category\") #binary labels - pandas series (type categoy)\n",
    "x = pd.get_dummies(data.iloc[:,1:]) #one-hot-encoding of features - pandas dataframe (type uint8(112))\n",
    "d = dict(zip(y.unique(), reversed(range(0,2)))) #{'p': 1, 'e': 0}\n",
    "y = y.map(d, na_action='ignore') #map the labels of Y: Poissonous - 1, Others - 0"
   ]
  },
  {
   "cell_type": "code",
   "execution_count": 44,
   "metadata": {},
   "outputs": [
    {
     "data": {
      "text/plain": [
       "<matplotlib.axes._subplots.AxesSubplot at 0xf73fdddfd0>"
      ]
     },
     "execution_count": 44,
     "metadata": {},
     "output_type": "execute_result"
    },
    {
     "data": {
      "image/png": "[encoded data removed]",
      "text/plain": [
       "<Figure size 432x288 with 1 Axes>"
      ]
     },
     "metadata": {
      "needs_background": "light"
     },
     "output_type": "display_data"
    }
   ],
   "source": [
    "##Section 2. Exploratory Data Analysis\n",
    "#1) Plot the class label distribution - balanced classes\n",
    "label_dist = y.value_counts().sort_index() #create a table of counts\n",
    "label_dist.plot.bar()"
   ]
  },
  {
   "cell_type": "code",
   "execution_count": 45,
   "metadata": {},
   "outputs": [],
   "source": [
    "##Section 3. Prepare data for modelling\n",
    "#Split the dataset into training (70%) and testing (30%) dataset\n",
    "n = data.shape[0]\n",
    "k = 0.70\n",
    "q = int(round(n*k))\n",
    "train_x = x.iloc[:q,:] \n",
    "train_y = y[:q]\n",
    "test_x = x.iloc[q:,:] \n",
    "test_y = y[q:]\n",
    "\n",
    "#Convert to numpy arrays of X and Y\n",
    "train_x = np.asarray(train_x).astype('float32')\n",
    "train_y = np.asarray(train_y).astype('float32')\n",
    "test_x = np.asarray(test_x).astype('float32')\n",
    "test_y = np.asarray(test_y).astype('float32')\n",
    "\n",
    "#type(train_x), type(train_y), type(test_x), type(test_y) - (numpy.ndarray, numpy.ndarray, numpy.ndarray, numpy.ndarray)\n",
    "#train_x.shape, train_y.shape, test_x.shape, test_y.shape - ((5687, 112), (5687,), (2437, 112), (2437,))"
   ]
  },
  {
   "cell_type": "code",
   "execution_count": null,
   "metadata": {},
   "outputs": [],
   "source": [
    "##Section 4. Model Building\n",
    "#1)Architecture of the model\n",
    "d = train_x.shape[1]\n",
    "model = models.Sequential()\n",
    "model.add(layers.Dense(16, activation='relu', input_shape=(d,)))\n",
    "model.add(layers.Dense(16, activation='relu'))\n",
    "model.add(layers.Dense(1, activation='sigmoid'))\n",
    "model.compile(optimizer='rmsprop', loss='binary_crossentropy', metrics=['accuracy']) #Optimizer, Loss function, Metrics\n",
    "\n",
    "#2)Train the model \n",
    "##K-Fold CV\n",
    "k = 5\n",
    "num_validation_samples = train_x.shape[0] // k\n",
    "loss = []\n",
    "accuracy = []\n",
    "\n",
    "for i in range(20): #Hyper-param = # of epochs\n",
    "    l = []\n",
    "    a = []\n",
    "    for fold in range(k):\n",
    "        validation_x = train_x[num_validation_samples*fold: num_validation_samples*(fold+1),:]\n",
    "        validation_y = train_y[num_validation_samples*fold: num_validation_samples*(fold+1)]\n",
    "        training_x = np.concatenate( (train_x[:num_validation_samples,:],train_x[num_validation_samples*(fold+1):,:]),\n",
    "                                    axis = 0)\n",
    "        training_y = np.concatenate( (train_y[:num_validation_samples],train_y[num_validation_samples*(fold+1):]),\n",
    "                                    axis = 0)\n",
    "\n",
    "        model.fit(training_x, training_y, epochs=i, batch_size=128,verbose=0) \n",
    "\n",
    "        l.append(model.evaluate(validation_x,validation_y,verbose=0)[0])\n",
    "        a.append(model.evaluate(validation_x,validation_y,verbose=0)[1])\n",
    "    loss.append(sum(l)/len(l))\n",
    "    accuracy.append(sum(a)/len(a))"
   ]
  },
  {
   "cell_type": "code",
   "execution_count": null,
   "metadata": {},
   "outputs": [],
   "source": []
  },
  {
   "cell_type": "code",
   "execution_count": 47,
   "metadata": {},
   "outputs": [
    {
     "name": "stderr",
     "output_type": "stream",
     "text": [
      "No handles with labels found to put in legend.\n"
     ]
    },
    {
     "data": {
      "image/png": "[encoded data removed]",
      "text/plain": [
       "<Figure size 432x288 with 1 Axes>"
      ]
     },
     "metadata": {
      "needs_background": "light"
     },
     "output_type": "display_data"
    },
    {
     "name": "stderr",
     "output_type": "stream",
     "text": [
      "No handles with labels found to put in legend.\n"
     ]
    },
    {
     "data": {
      "image/png": "[encoded data removed]",
      "text/plain": [
       "<Figure size 432x288 with 1 Axes>"
      ]
     },
     "metadata": {
      "needs_background": "light"
     },
     "output_type": "display_data"
    }
   ],
   "source": [
    "#3)Tuning - Plot loss and accuracy (training vs dev)\n",
    "loss_values = np.asarray(loss)\n",
    "accuracy_values = np.asarray(accuracy)\n",
    "\n",
    "epochs = range(1,len(loss_values)+1)\n",
    "plt.plot(epochs,loss_values, 'bo')\n",
    "plt.xticks(range(1, 20,3))\n",
    "plt.title('Loss - CV (k=5)', fontweight = 'bold',fontsize = 16)\n",
    "plt.xlabel('Epochs',fontsize = 14)\n",
    "plt.ylabel('Loss',fontsize = 14)\n",
    "plt.legend()\n",
    "plt.show()\n",
    "\n",
    "epochs = range(1,len(accuracy_values)+1)\n",
    "plt.plot(epochs,accuracy_values, 'go')\n",
    "plt.xticks(range(1, 20,3))\n",
    "plt.title('Accuracy - CV (k=5)', fontweight = 'bold',fontsize = 16)\n",
    "plt.xlabel('Epochs',fontsize = 14)\n",
    "plt.ylabel('Accuracy',fontsize = 14)\n",
    "plt.legend()\n",
    "plt.show()"
   ]
  },
  {
   "cell_type": "code",
   "execution_count": 52,
   "metadata": {},
   "outputs": [
    {
     "data": {
      "text/plain": [
       "<keras.callbacks.History at 0xf7476385c0>"
      ]
     },
     "execution_count": 52,
     "metadata": {},
     "output_type": "execute_result"
    }
   ],
   "source": [
    "#4)Finalize - retraining the model using whole training set\n",
    "d = train_x.shape[1]\n",
    "model = models.Sequential()\n",
    "model.add(layers.Dense(16, activation='relu', input_shape=(d,)))\n",
    "model.add(layers.Dense(16, activation='relu'))\n",
    "model.add(layers.Dense(1, activation='sigmoid'))\n",
    "\n",
    "model.compile(optimizer='rmsprop', loss='binary_crossentropy', metrics=['accuracy'])\n",
    "\n",
    "model.fit(train_x, train_y, epochs=5,batch_size=128,verbose=0) "
   ]
  },
  {
   "cell_type": "code",
   "execution_count": 54,
   "metadata": {},
   "outputs": [
    {
     "name": "stdout",
     "output_type": "stream",
     "text": [
      "2437/2437 [==============================] - 0s 18us/step\n"
     ]
    },
    {
     "data": {
      "text/plain": [
       "[0.01449605622158757, 0.9991793188346327]"
      ]
     },
     "execution_count": 54,
     "metadata": {},
     "output_type": "execute_result"
    }
   ],
   "source": [
    "#5)Evaluate on the test set\n",
    "model.evaluate(test_x,test_y) #[loss, accuracy] = [0.01449605622158757, 0.9991793188346327]"
   ]
  },
  {
   "cell_type": "code",
   "execution_count": 55,
   "metadata": {},
   "outputs": [
    {
     "data": {
      "text/plain": [
       "(array([1124.,   16.,    5.,    2.,    2.,    2.,    3.,   11.,   29.,\n",
       "        1243.]),\n",
       " array([1.3594765e-06, 9.9610642e-02, 1.9921993e-01, 2.9882920e-01,\n",
       "        3.9843848e-01, 4.9804777e-01, 5.9765702e-01, 6.9726634e-01,\n",
       "        7.9687560e-01, 8.9648491e-01, 9.9609417e-01], dtype=float32),\n",
       " <a list of 10 Patch objects>)"
      ]
     },
     "execution_count": 55,
     "metadata": {},
     "output_type": "execute_result"
    },
    {
     "data": {
      "image/png": "[encoded data removed]",
      "text/plain": [
       "<Figure size 432x288 with 1 Axes>"
      ]
     },
     "metadata": {
      "needs_background": "light"
     },
     "output_type": "display_data"
    }
   ],
   "source": [
    "#6)Closer look at the test set performance\n",
    "predictions = model.predict(test_x) #see the soft probability of the predicted data\n",
    "plt.hist(predictions)"
   ]
  },
  {
   "cell_type": "code",
   "execution_count": null,
   "metadata": {},
   "outputs": [],
   "source": []
  },
  {
   "cell_type": "code",
   "execution_count": null,
   "metadata": {},
   "outputs": [],
   "source": []
  }
 ],
 "metadata": {
  "kernelspec": {
   "display_name": "Python 3",
   "language": "python",
   "name": "python3"
  },
  "language_info": {
   "codemirror_mode": {
    "name": "ipython",
    "version": 3
   },
   "file_extension": ".py",
   "mimetype": "text/x-python",
   "name": "python",
   "nbconvert_exporter": "python",
   "pygments_lexer": "ipython3",
   "version": "3.6.8"
  }
 },
 "nbformat": 4,
 "nbformat_minor": 2
}
